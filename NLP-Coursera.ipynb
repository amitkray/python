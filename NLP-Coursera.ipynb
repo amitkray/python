{
 "cells": [
  {
   "cell_type": "code",
   "execution_count": 113,
   "id": "planned-billy",
   "metadata": {},
   "outputs": [],
   "source": [
    "from nltk.stem import PorterStemmer\n",
    "from nltk.tokenize import sent_tokenize, word_tokenize\n",
    "from array import array\n",
    "\n",
    "def build_freqs(tweets,labels): #Build Frequency Dictionary\n",
    "    tweet = []\n",
    "    PosFreq = {}\n",
    "    NegFreq = {}\n",
    "    for i in range(len(tweets)):\n",
    "        if labels[i] ==1:\n",
    "            tweet = process_tweet(tweets[i])\n",
    "            \n",
    "            for j in range(len(tweet)):\n",
    "                if tweet[j] not in PosFreq:\n",
    "                    PosFreq[tweet[j]] = 1\n",
    "                else:\n",
    "                    PosFreq[tweet[j]] += 1\n",
    "        else:\n",
    "            tweet = process_tweet(tweets[i])\n",
    "            for j in range(len(tweet)):\n",
    "                if tweet[j] not in NegFreq:\n",
    "                    NegFreq[tweet[j]] = 1\n",
    "                else:\n",
    "                    NegFreq[tweet[j]] += 1\n",
    "    return PosFreq, NegFreq\n",
    "\n",
    "def process_tweet(tweet):\n",
    "     #Stemming chaning learning to learn\n",
    "    ps = PorterStemmer()\n",
    "    word_tokens = word_tokenize(tweet)\n",
    "    tweety = []\n",
    "    for w in word_tokens:\n",
    "        xw = ps.stem(w)\n",
    "        tweety.append(xw)\n",
    "       \n",
    "    \n",
    "    #tweety = w.split()\n",
    "\n",
    "    #if thing in some_list: some_list.remove(thing)\n",
    "\n",
    "    #The removemethod will remove only the first occurrence of thing, in order \n",
    "    #to remove all occurrences you can use while instead of if.\n",
    "    #Using lambda function to convert all words to small letters\n",
    "    tweety = [element.lower() for element in tweety]\n",
    "    #print(tweety)\n",
    "    #print(\"Break\")\n",
    "    simplewords = [\"and\",\"is\",\"a\",\"on\",\"i\",\"am\"]\n",
    "    #words = ['a', 'b', 'a', 'c', 'd']\n",
    "    #stopwords = ['a', 'c']\n",
    "    for word in list(tweety):  # iterating on a copy since removing will mess things up\n",
    "        if word in simplewords:\n",
    "            tweety.remove(word)\n",
    "    #An even more pythonic way using list comprehensions:\n",
    "    #new_words = [word for word in words if word not in stopwords]\n",
    "    #while simplewords in tweety: \n",
    "        #tweety.remove(simplewords) \n",
    "    #print(tweety)\n",
    "    return tweety\n",
    "\n",
    "def extract_features(p_tweet, freqs):\n",
    "    pos_sum = 0\n",
    "    neg_sum = 0\n",
    "    for p in p_tweet:\n",
    "        if p in freqs[0]:\n",
    "            posval = freqs[0].get(p)\n",
    "            pos_sum = pos_sum + posval\n",
    "    \n",
    "    for p in p_tweet:\n",
    "        if p in freqs[1]:\n",
    "            negval = freqs[1].get(p)\n",
    "            neg_sum = neg_sum + negval\n",
    "\n",
    "    return 1, pos_sum, neg_sum\n",
    "    "
   ]
  },
  {
   "cell_type": "code",
   "execution_count": 114,
   "id": "iraqi-contrary",
   "metadata": {},
   "outputs": [],
   "source": [
    "tweets = [\"I am learning NLP\",\"I love NLP\",\"I hate NLP\", \"I will not learn NLP\"]\n",
    "labels = [1,1,0,0]"
   ]
  },
  {
   "cell_type": "code",
   "execution_count": 115,
   "id": "wrapped-applicant",
   "metadata": {},
   "outputs": [
    {
     "name": "stdout",
     "output_type": "stream",
     "text": [
      "({'learn': 1, 'nlp': 2, 'love': 1}, {'hate': 1, 'nlp': 2, 'will': 1, 'not': 1, 'learn': 1})\n",
      "(1, 3, 3)\n",
      "(1, 3, 3)\n",
      "(1, 3, 4)\n"
     ]
    }
   ],
   "source": [
    "import numpy as np\n",
    "freqs = build_freqs(tweets,labels) #Build\n",
    "print(freqs)\n",
    "tweets = [\"I learning NLP\",\"I not love NLP\", \"I will learn NLP\"]\n",
    "m = len(tweets)\n",
    "#print(m)\n",
    "x = np.zeros((m,3)) #Initialize matrix x\n",
    "for i in range(m): #For every tweet\n",
    "    p_tweet = process_tweet(tweets[i]) #Process Tweet\n",
    "    print(extract_features(p_tweet, freqs)) # Extract Features \n",
    " "
   ]
  }
 ],
 "metadata": {
  "kernelspec": {
   "display_name": "Python 3",
   "language": "python",
   "name": "python3"
  },
  "language_info": {
   "codemirror_mode": {
    "name": "ipython",
    "version": 3
   },
   "file_extension": ".py",
   "mimetype": "text/x-python",
   "name": "python",
   "nbconvert_exporter": "python",
   "pygments_lexer": "ipython3",
   "version": "3.8.5"
  }
 },
 "nbformat": 4,
 "nbformat_minor": 5
}
